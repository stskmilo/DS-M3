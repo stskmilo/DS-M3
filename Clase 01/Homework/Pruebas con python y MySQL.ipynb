{
 "cells": [
  {
   "cell_type": "code",
   "execution_count": 39,
   "metadata": {},
   "outputs": [],
   "source": [
    "import mysql.connector\n",
    "\n",
    "#Antes, en MySQL se crea usuario --> CREATE USER 'pruebas'@'localhost' IDENTIFIED BY 'pruebas123';\n",
    "#En MySQL se otorgan permisos --> GRANT type_of_permission ON database_name.table_name TO 'username'@'localhost';\n",
    "#En este caso se usó ALL para type_of_permission; *.* en database_name.table_name; y usuario 'pruebas'@'localhost'\n",
    "\n",
    "mydb = mysql.connector.connect(\n",
    "  host=\"localhost\",\n",
    "  user=\"pruebas\",\n",
    "  password=\"pruebas123\",\n",
    "  database=\"henry\"\n",
    ")"
   ]
  },
  {
   "cell_type": "code",
   "execution_count": 13,
   "metadata": {},
   "outputs": [
    {
     "name": "stdout",
     "output_type": "stream",
     "text": [
      "<mysql.connector.connection_cext.CMySQLConnection object at 0x0000023BD0914100>\n"
     ]
    }
   ],
   "source": [
    "print(mydb)"
   ]
  },
  {
   "cell_type": "code",
   "execution_count": 40,
   "metadata": {},
   "outputs": [],
   "source": [
    "mycursor = mydb.cursor()"
   ]
  },
  {
   "cell_type": "code",
   "execution_count": 15,
   "metadata": {},
   "outputs": [
    {
     "name": "stdout",
     "output_type": "stream",
     "text": [
      "('henry',)\n",
      "('information_schema',)\n",
      "('mysql',)\n",
      "('performance_schema',)\n",
      "('sakila',)\n",
      "('sys',)\n",
      "('world',)\n"
     ]
    }
   ],
   "source": [
    "mycursor.execute(\"SHOW DATABASES\")\n",
    "\n",
    "for x in mycursor:\n",
    "  print(x)"
   ]
  },
  {
   "cell_type": "code",
   "execution_count": 23,
   "metadata": {},
   "outputs": [],
   "source": [
    "mycursor.execute(\"SHOW TABLES\")"
   ]
  },
  {
   "cell_type": "code",
   "execution_count": 24,
   "metadata": {},
   "outputs": [
    {
     "name": "stdout",
     "output_type": "stream",
     "text": [
      "alumno\n",
      "carrera\n",
      "cohorte\n",
      "instructor\n"
     ]
    }
   ],
   "source": [
    "for x in mycursor:\n",
    "  print(x[0])"
   ]
  },
  {
   "cell_type": "code",
   "execution_count": 41,
   "metadata": {},
   "outputs": [
    {
     "name": "stdout",
     "output_type": "stream",
     "text": [
      "(1, 25456879, 'Antonio', 'Barrios', datetime.date(1981, 7, 9), datetime.date(2019, 11, 8))\n",
      "(2, 28456321, 'Lucia', 'Fernandez', datetime.date(1992, 5, 25), datetime.date(2019, 11, 8))\n",
      "(3, 27198354, 'Leo', 'Paris', datetime.date(1985, 6, 20), datetime.date(2021, 8, 15))\n",
      "(4, 36987520, 'Agustín', 'Casagne', datetime.date(1988, 8, 17), datetime.date(2021, 8, 15))\n",
      "(5, 33456215, 'Franco', 'Caseros', datetime.date(1995, 5, 1), datetime.date(2021, 8, 15))\n",
      "(6, 30521369, 'Dario', 'Ramirez', datetime.date(1989, 7, 20), datetime.date(2021, 12, 1))\n",
      "(7, 28856789, 'Agustina', 'Medina', datetime.date(1991, 3, 8), datetime.date(2021, 12, 1))\n",
      "(8, 33128987, 'Jorge', 'Perez', datetime.date(1988, 2, 19), datetime.date(2021, 12, 1))\n"
     ]
    }
   ],
   "source": [
    "sql = 'SELECT * FROM instructor'\n",
    "mycursor.execute(sql)\n",
    "for x in mycursor:\n",
    "  print(x)"
   ]
  },
  {
   "cell_type": "code",
   "execution_count": 25,
   "metadata": {},
   "outputs": [],
   "source": [
    "import pandas as pd\n",
    "diccionario = {}\n",
    "henry = pd.DataFrame(diccionario)\n",
    "\n",
    "mycursor.execute(\"SHOW TABLES\")\n",
    "for x in mycursor:\n",
    "    henry[x[0]] = []"
   ]
  },
  {
   "cell_type": "code",
   "execution_count": 26,
   "metadata": {},
   "outputs": [
    {
     "data": {
      "text/html": [
       "<div>\n",
       "<style scoped>\n",
       "    .dataframe tbody tr th:only-of-type {\n",
       "        vertical-align: middle;\n",
       "    }\n",
       "\n",
       "    .dataframe tbody tr th {\n",
       "        vertical-align: top;\n",
       "    }\n",
       "\n",
       "    .dataframe thead th {\n",
       "        text-align: right;\n",
       "    }\n",
       "</style>\n",
       "<table border=\"1\" class=\"dataframe\">\n",
       "  <thead>\n",
       "    <tr style=\"text-align: right;\">\n",
       "      <th></th>\n",
       "      <th>alumno</th>\n",
       "      <th>carrera</th>\n",
       "      <th>cohorte</th>\n",
       "      <th>instructor</th>\n",
       "    </tr>\n",
       "  </thead>\n",
       "  <tbody>\n",
       "  </tbody>\n",
       "</table>\n",
       "</div>"
      ],
      "text/plain": [
       "Empty DataFrame\n",
       "Columns: [alumno, carrera, cohorte, instructor]\n",
       "Index: []"
      ]
     },
     "execution_count": 26,
     "metadata": {},
     "output_type": "execute_result"
    }
   ],
   "source": [
    "henry"
   ]
  },
  {
   "cell_type": "code",
   "execution_count": 35,
   "metadata": {},
   "outputs": [
    {
     "name": "stderr",
     "output_type": "stream",
     "text": [
      "e:\\Program Files\\Python310\\lib\\site-packages\\pandas\\io\\sql.py:761: UserWarning: pandas only support SQLAlchemy connectable(engine/connection) ordatabase string URI or sqlite3 DBAPI2 connectionother DBAPI2 objects are not tested, please consider using SQLAlchemy\n",
      "  warnings.warn(\n",
      "e:\\Program Files\\Python310\\lib\\site-packages\\pandas\\io\\sql.py:761: UserWarning: pandas only support SQLAlchemy connectable(engine/connection) ordatabase string URI or sqlite3 DBAPI2 connectionother DBAPI2 objects are not tested, please consider using SQLAlchemy\n",
      "  warnings.warn(\n",
      "e:\\Program Files\\Python310\\lib\\site-packages\\pandas\\io\\sql.py:761: UserWarning: pandas only support SQLAlchemy connectable(engine/connection) ordatabase string URI or sqlite3 DBAPI2 connectionother DBAPI2 objects are not tested, please consider using SQLAlchemy\n",
      "  warnings.warn(\n",
      "e:\\Program Files\\Python310\\lib\\site-packages\\pandas\\io\\sql.py:761: UserWarning: pandas only support SQLAlchemy connectable(engine/connection) ordatabase string URI or sqlite3 DBAPI2 connectionother DBAPI2 objects are not tested, please consider using SQLAlchemy\n",
      "  warnings.warn(\n"
     ]
    }
   ],
   "source": [
    "alumno = pd.read_sql('SELECT * FROM alumno', con=mydb, index_col = 'id_alumno')\n",
    "carrera =pd.read_sql('SELECT * FROM carrera', con=mydb)\n",
    "cohorte = pd.read_sql('SELECT * FROM cohorte', con=mydb)\n",
    "instructor = pd.read_sql('SELECT * FROM instructor', con=mydb)\n"
   ]
  },
  {
   "cell_type": "code",
   "execution_count": 16,
   "metadata": {},
   "outputs": [],
   "source": [
    "mycursor.execute(\"SELECT * FROM carrera\")"
   ]
  },
  {
   "cell_type": "code",
   "execution_count": 17,
   "metadata": {},
   "outputs": [
    {
     "name": "stdout",
     "output_type": "stream",
     "text": [
      "(1, 'Full Stack Developer')\n",
      "(2, 'Data Science')\n"
     ]
    }
   ],
   "source": [
    "for x in mycursor:\n",
    "  print(x)"
   ]
  }
 ],
 "metadata": {
  "kernelspec": {
   "display_name": "Python 3.10.1 64-bit",
   "language": "python",
   "name": "python3"
  },
  "language_info": {
   "codemirror_mode": {
    "name": "ipython",
    "version": 3
   },
   "file_extension": ".py",
   "mimetype": "text/x-python",
   "name": "python",
   "nbconvert_exporter": "python",
   "pygments_lexer": "ipython3",
   "version": "3.10.1"
  },
  "orig_nbformat": 4,
  "vscode": {
   "interpreter": {
    "hash": "7a00de2d03a2cdd800050a5fd9903e27ef0ab168083508fb826c5866b9462f56"
   }
  }
 },
 "nbformat": 4,
 "nbformat_minor": 2
}
